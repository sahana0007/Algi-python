{
  "nbformat": 4,
  "nbformat_minor": 0,
  "metadata": {
    "colab": {
      "name": "Order not known_agnostic.ipynb",
      "provenance": [],
      "collapsed_sections": []
    },
    "kernelspec": {
      "name": "python3",
      "display_name": "Python 3"
    },
    "language_info": {
      "name": "python"
    }
  },
  "cells": [
    {
      "cell_type": "code",
      "execution_count": 4,
      "metadata": {
        "colab": {
          "base_uri": "https://localhost:8080/"
        },
        "id": "6QQtVWdqnQ4W",
        "outputId": "ed05d53a-a9e7-4fef-b5de-37da95695ed0"
      },
      "outputs": [
        {
          "output_type": "stream",
          "name": "stdout",
          "text": [
            "False\n",
            "Element is present at index 1\n"
          ]
        }
      ],
      "source": [
        "def agnostic_orderNotKnown(nums, start, end, target):\n",
        "  start, end = 0, len(nums) -1\n",
        "#check order of nums\n",
        "  ifAscending = nums[start] <=nums[end]\n",
        "  print(ifAscending)#gives true or false\n",
        "\n",
        "  while(start<= end):\n",
        "    mid = start + (end-start)//2\n",
        "    if nums[mid] == target:\n",
        "      return mid\n",
        "      #ascending order\n",
        "    if(ifAscending ==True):\n",
        "      #implement binary search\n",
        "      if(nums[mid]>=target):\n",
        "        end = mid -1\n",
        "      else:\n",
        "        start = mid +1\n",
        "    else:\n",
        "      if(nums[mid]>target):\n",
        "        start = mid+1\n",
        "      else:\n",
        "        end = mid -1\n",
        "  return -1\n",
        "\n",
        "# Test array\n",
        "nums = [ 40, 10, 5, 2, 1 ]\n",
        "target = 10\n",
        "\n",
        "# Function call\n",
        "result = agnostic_orderNotKnown(nums, 0, len(nums)-1, target)\n",
        "\n",
        "if result != -1:\n",
        "\tprint(\"Element is present at index\", str(result))\n",
        "else:\n",
        "\tprint(\"Element is not present in array\")\n",
        " \n"
      ]
    }
  ]
}